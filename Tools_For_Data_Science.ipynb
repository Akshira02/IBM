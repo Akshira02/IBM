{
  "metadata": {
    "kernelspec": {
      "display_name": "SQLite",
      "language": "sql",
      "name": "SQLite"
    },
    "language_info": {
      "codemirror_mode": "sql",
      "file_extension": "",
      "mimetype": "",
      "name": "sql",
      "version": "3.32.3"
    }
  },
  "nbformat_minor": 4,
  "nbformat": 4,
  "cells": [
    {
      "cell_type": "markdown",
      "source": "# My Jupyter Notebook on IBM Watson Studio",
      "metadata": {
        "tags": []
      }
    },
    {
      "cell_type": "markdown",
      "source": "## <b> Akshitha Rajendran </b>.\n### I am a Biomedical Engineer.\n",
      "metadata": {}
    },
    {
      "cell_type": "markdown",
      "source": "### <i> I am interested in data science because I would like to apply it to my career, and analyze medical data. </i>\n",
      "metadata": {
        "tags": []
      }
    },
    {
      "cell_type": "code",
      "source": "### The below code adds one plus one.",
      "metadata": {},
      "execution_count": null,
      "outputs": []
    },
    {
      "cell_type": "markdown",
      "source": "1+1=2",
      "metadata": {}
    },
    {
      "cell_type": "markdown",
      "source": "## <s> Data Science </s>\n|Data Science tools |\n| --- |\n| RStudio IDE |\n| Jupyter Notebooks |\n| Watson Studio |\n\n[Data Science Tools](https://library.fiveable.me/session/thinkfiveable?id=NjQxNDBmODExYzUxNWZkY2NhOTU2NDAw)",
      "metadata": {}
    }
  ]
}